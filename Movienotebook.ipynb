{
 "cells": [
  {
   "cell_type": "code",
   "execution_count": 24,
   "metadata": {},
   "outputs": [],
   "source": [
    "import pandas as pd\n",
    "import numpy as np\n",
    "import seaborn as sns\n",
    "import matplotlib.pyplot as plt\n",
    "%matplotlib inline\n",
    "#I always import all directories needed to avoid coding execution headaches in the future."
   ]
  },
  {
   "cell_type": "code",
   "execution_count": 25,
   "metadata": {},
   "outputs": [
    {
     "data": {
      "text/html": [
       "<div>\n",
       "<style scoped>\n",
       "    .dataframe tbody tr th:only-of-type {\n",
       "        vertical-align: middle;\n",
       "    }\n",
       "\n",
       "    .dataframe tbody tr th {\n",
       "        vertical-align: top;\n",
       "    }\n",
       "\n",
       "    .dataframe thead th {\n",
       "        text-align: right;\n",
       "    }\n",
       "</style>\n",
       "<table border=\"1\" class=\"dataframe\">\n",
       "  <thead>\n",
       "    <tr style=\"text-align: right;\">\n",
       "      <th></th>\n",
       "      <th>dates</th>\n",
       "      <th>tweet_count</th>\n",
       "      <th>sentiment</th>\n",
       "      <th>sales</th>\n",
       "      <th>movie</th>\n",
       "    </tr>\n",
       "  </thead>\n",
       "  <tbody>\n",
       "    <tr>\n",
       "      <td>110</td>\n",
       "      <td>2017-11-26</td>\n",
       "      <td>222</td>\n",
       "      <td>0.062734</td>\n",
       "      <td>0</td>\n",
       "      <td>phantom</td>\n",
       "    </tr>\n",
       "    <tr>\n",
       "      <td>111</td>\n",
       "      <td>2017-12-03</td>\n",
       "      <td>626</td>\n",
       "      <td>0.084985</td>\n",
       "      <td>0</td>\n",
       "      <td>phantom</td>\n",
       "    </tr>\n",
       "    <tr>\n",
       "      <td>112</td>\n",
       "      <td>2017-12-10</td>\n",
       "      <td>257</td>\n",
       "      <td>0.129123</td>\n",
       "      <td>0</td>\n",
       "      <td>phantom</td>\n",
       "    </tr>\n",
       "    <tr>\n",
       "      <td>113</td>\n",
       "      <td>2017-12-17</td>\n",
       "      <td>248</td>\n",
       "      <td>0.116469</td>\n",
       "      <td>0</td>\n",
       "      <td>phantom</td>\n",
       "    </tr>\n",
       "    <tr>\n",
       "      <td>114</td>\n",
       "      <td>2017-12-24</td>\n",
       "      <td>76</td>\n",
       "      <td>0.122159</td>\n",
       "      <td>311345</td>\n",
       "      <td>phantom</td>\n",
       "    </tr>\n",
       "    <tr>\n",
       "      <td>115</td>\n",
       "      <td>2017-12-31</td>\n",
       "      <td>61</td>\n",
       "      <td>0.204754</td>\n",
       "      <td>395605</td>\n",
       "      <td>phantom</td>\n",
       "    </tr>\n",
       "    <tr>\n",
       "      <td>116</td>\n",
       "      <td>2018-01-07</td>\n",
       "      <td>23</td>\n",
       "      <td>0.418691</td>\n",
       "      <td>374828</td>\n",
       "      <td>phantom</td>\n",
       "    </tr>\n",
       "    <tr>\n",
       "      <td>117</td>\n",
       "      <td>2018-01-14</td>\n",
       "      <td>92</td>\n",
       "      <td>0.161924</td>\n",
       "      <td>1730951</td>\n",
       "      <td>phantom</td>\n",
       "    </tr>\n",
       "    <tr>\n",
       "      <td>118</td>\n",
       "      <td>2018-01-21</td>\n",
       "      <td>47</td>\n",
       "      <td>0.177930</td>\n",
       "      <td>4919080</td>\n",
       "      <td>phantom</td>\n",
       "    </tr>\n",
       "    <tr>\n",
       "      <td>119</td>\n",
       "      <td>2018-01-28</td>\n",
       "      <td>53</td>\n",
       "      <td>0.174379</td>\n",
       "      <td>4302300</td>\n",
       "      <td>phantom</td>\n",
       "    </tr>\n",
       "    <tr>\n",
       "      <td>120</td>\n",
       "      <td>2018-02-04</td>\n",
       "      <td>44</td>\n",
       "      <td>0.273402</td>\n",
       "      <td>3163985</td>\n",
       "      <td>phantom</td>\n",
       "    </tr>\n",
       "    <tr>\n",
       "      <td>121</td>\n",
       "      <td>2018-02-11</td>\n",
       "      <td>94</td>\n",
       "      <td>0.148956</td>\n",
       "      <td>1798530</td>\n",
       "      <td>phantom</td>\n",
       "    </tr>\n",
       "    <tr>\n",
       "      <td>122</td>\n",
       "      <td>2018-02-18</td>\n",
       "      <td>62</td>\n",
       "      <td>0.182161</td>\n",
       "      <td>1155470</td>\n",
       "      <td>phantom</td>\n",
       "    </tr>\n",
       "    <tr>\n",
       "      <td>123</td>\n",
       "      <td>2018-02-25</td>\n",
       "      <td>39</td>\n",
       "      <td>0.217585</td>\n",
       "      <td>1382070</td>\n",
       "      <td>phantom</td>\n",
       "    </tr>\n",
       "    <tr>\n",
       "      <td>124</td>\n",
       "      <td>2018-03-04</td>\n",
       "      <td>102</td>\n",
       "      <td>0.145862</td>\n",
       "      <td>943371</td>\n",
       "      <td>phantom</td>\n",
       "    </tr>\n",
       "    <tr>\n",
       "      <td>125</td>\n",
       "      <td>2018-03-11</td>\n",
       "      <td>40</td>\n",
       "      <td>0.051135</td>\n",
       "      <td>334885</td>\n",
       "      <td>phantom</td>\n",
       "    </tr>\n",
       "    <tr>\n",
       "      <td>126</td>\n",
       "      <td>2018-03-18</td>\n",
       "      <td>74</td>\n",
       "      <td>0.114177</td>\n",
       "      <td>143880</td>\n",
       "      <td>phantom</td>\n",
       "    </tr>\n",
       "    <tr>\n",
       "      <td>127</td>\n",
       "      <td>2018-03-25</td>\n",
       "      <td>47</td>\n",
       "      <td>0.114591</td>\n",
       "      <td>49705</td>\n",
       "      <td>phantom</td>\n",
       "    </tr>\n",
       "    <tr>\n",
       "      <td>128</td>\n",
       "      <td>2018-04-01</td>\n",
       "      <td>487</td>\n",
       "      <td>0.099556</td>\n",
       "      <td>27760</td>\n",
       "      <td>phantom</td>\n",
       "    </tr>\n",
       "    <tr>\n",
       "      <td>129</td>\n",
       "      <td>2018-04-08</td>\n",
       "      <td>38</td>\n",
       "      <td>0.030234</td>\n",
       "      <td>17915</td>\n",
       "      <td>phantom</td>\n",
       "    </tr>\n",
       "    <tr>\n",
       "      <td>130</td>\n",
       "      <td>2018-04-15</td>\n",
       "      <td>491</td>\n",
       "      <td>0.150130</td>\n",
       "      <td>0</td>\n",
       "      <td>phantom</td>\n",
       "    </tr>\n",
       "  </tbody>\n",
       "</table>\n",
       "</div>"
      ],
      "text/plain": [
       "          dates  tweet_count  sentiment    sales    movie\n",
       "110  2017-11-26          222   0.062734        0  phantom\n",
       "111  2017-12-03          626   0.084985        0  phantom\n",
       "112  2017-12-10          257   0.129123        0  phantom\n",
       "113  2017-12-17          248   0.116469        0  phantom\n",
       "114  2017-12-24           76   0.122159   311345  phantom\n",
       "115  2017-12-31           61   0.204754   395605  phantom\n",
       "116  2018-01-07           23   0.418691   374828  phantom\n",
       "117  2018-01-14           92   0.161924  1730951  phantom\n",
       "118  2018-01-21           47   0.177930  4919080  phantom\n",
       "119  2018-01-28           53   0.174379  4302300  phantom\n",
       "120  2018-02-04           44   0.273402  3163985  phantom\n",
       "121  2018-02-11           94   0.148956  1798530  phantom\n",
       "122  2018-02-18           62   0.182161  1155470  phantom\n",
       "123  2018-02-25           39   0.217585  1382070  phantom\n",
       "124  2018-03-04          102   0.145862   943371  phantom\n",
       "125  2018-03-11           40   0.051135   334885  phantom\n",
       "126  2018-03-18           74   0.114177   143880  phantom\n",
       "127  2018-03-25           47   0.114591    49705  phantom\n",
       "128  2018-04-01          487   0.099556    27760  phantom\n",
       "129  2018-04-08           38   0.030234    17915  phantom\n",
       "130  2018-04-15          491   0.150130        0  phantom"
      ]
     },
     "execution_count": 25,
     "metadata": {},
     "output_type": "execute_result"
    }
   ],
   "source": [
    "twitter_df = pd.read_csv(\"./data/girlproject/weeklt_data.csv\")\n",
    "twitter_df.head(50)\n",
    "#This a a twitter analytics data set which reports number of tweets, sentiments, sales, and  the respective movie.  \n",
    "#The point of this is to show correlation between social media presence and sales.\n",
    "twitter_df.loc[twitter_df['movie'] == 'phantom']"
   ]
  },
  {
   "cell_type": "code",
   "execution_count": 26,
   "metadata": {},
   "outputs": [
    {
     "data": {
      "text/html": [
       "<div>\n",
       "<style scoped>\n",
       "    .dataframe tbody tr th:only-of-type {\n",
       "        vertical-align: middle;\n",
       "    }\n",
       "\n",
       "    .dataframe tbody tr th {\n",
       "        vertical-align: top;\n",
       "    }\n",
       "\n",
       "    .dataframe thead th {\n",
       "        text-align: right;\n",
       "    }\n",
       "</style>\n",
       "<table border=\"1\" class=\"dataframe\">\n",
       "  <thead>\n",
       "    <tr style=\"text-align: right;\">\n",
       "      <th></th>\n",
       "      <th>dates</th>\n",
       "      <th>tweet_count</th>\n",
       "      <th>sentiment</th>\n",
       "      <th>sales</th>\n",
       "      <th>movie</th>\n",
       "    </tr>\n",
       "  </thead>\n",
       "  <tbody>\n",
       "    <tr>\n",
       "      <td>0</td>\n",
       "      <td>2017-10-08</td>\n",
       "      <td>735</td>\n",
       "      <td>0.165143</td>\n",
       "      <td>0</td>\n",
       "      <td>ladyb</td>\n",
       "    </tr>\n",
       "    <tr>\n",
       "      <td>1</td>\n",
       "      <td>2017-10-15</td>\n",
       "      <td>1096</td>\n",
       "      <td>0.148379</td>\n",
       "      <td>0</td>\n",
       "      <td>ladyb</td>\n",
       "    </tr>\n",
       "    <tr>\n",
       "      <td>2</td>\n",
       "      <td>2017-10-22</td>\n",
       "      <td>546</td>\n",
       "      <td>0.182132</td>\n",
       "      <td>0</td>\n",
       "      <td>ladyb</td>\n",
       "    </tr>\n",
       "    <tr>\n",
       "      <td>3</td>\n",
       "      <td>2017-10-29</td>\n",
       "      <td>97</td>\n",
       "      <td>0.151705</td>\n",
       "      <td>0</td>\n",
       "      <td>ladyb</td>\n",
       "    </tr>\n",
       "    <tr>\n",
       "      <td>4</td>\n",
       "      <td>2017-11-05</td>\n",
       "      <td>106</td>\n",
       "      <td>0.147747</td>\n",
       "      <td>532080</td>\n",
       "      <td>ladyb</td>\n",
       "    </tr>\n",
       "    <tr>\n",
       "      <td>5</td>\n",
       "      <td>2017-11-12</td>\n",
       "      <td>80</td>\n",
       "      <td>0.160900</td>\n",
       "      <td>1640395</td>\n",
       "      <td>ladyb</td>\n",
       "    </tr>\n",
       "    <tr>\n",
       "      <td>6</td>\n",
       "      <td>2017-11-19</td>\n",
       "      <td>95</td>\n",
       "      <td>0.227592</td>\n",
       "      <td>4496063</td>\n",
       "      <td>ladyb</td>\n",
       "    </tr>\n",
       "    <tr>\n",
       "      <td>7</td>\n",
       "      <td>2017-11-26</td>\n",
       "      <td>53</td>\n",
       "      <td>0.175660</td>\n",
       "      <td>5876913</td>\n",
       "      <td>ladyb</td>\n",
       "    </tr>\n",
       "    <tr>\n",
       "      <td>8</td>\n",
       "      <td>2017-12-03</td>\n",
       "      <td>84</td>\n",
       "      <td>0.072874</td>\n",
       "      <td>6238218</td>\n",
       "      <td>ladyb</td>\n",
       "    </tr>\n",
       "    <tr>\n",
       "      <td>9</td>\n",
       "      <td>2017-12-10</td>\n",
       "      <td>67</td>\n",
       "      <td>0.105972</td>\n",
       "      <td>5085720</td>\n",
       "      <td>ladyb</td>\n",
       "    </tr>\n",
       "    <tr>\n",
       "      <td>10</td>\n",
       "      <td>2017-12-17</td>\n",
       "      <td>108</td>\n",
       "      <td>0.107323</td>\n",
       "      <td>3431429</td>\n",
       "      <td>ladyb</td>\n",
       "    </tr>\n",
       "    <tr>\n",
       "      <td>11</td>\n",
       "      <td>2017-12-24</td>\n",
       "      <td>60</td>\n",
       "      <td>0.116428</td>\n",
       "      <td>2665194</td>\n",
       "      <td>ladyb</td>\n",
       "    </tr>\n",
       "    <tr>\n",
       "      <td>12</td>\n",
       "      <td>2017-12-31</td>\n",
       "      <td>55</td>\n",
       "      <td>0.058996</td>\n",
       "      <td>2590079</td>\n",
       "      <td>ladyb</td>\n",
       "    </tr>\n",
       "    <tr>\n",
       "      <td>13</td>\n",
       "      <td>2018-01-07</td>\n",
       "      <td>86</td>\n",
       "      <td>0.205951</td>\n",
       "      <td>2660118</td>\n",
       "      <td>ladyb</td>\n",
       "    </tr>\n",
       "    <tr>\n",
       "      <td>14</td>\n",
       "      <td>2018-01-14</td>\n",
       "      <td>61</td>\n",
       "      <td>0.180426</td>\n",
       "      <td>2643026</td>\n",
       "      <td>ladyb</td>\n",
       "    </tr>\n",
       "    <tr>\n",
       "      <td>15</td>\n",
       "      <td>2018-01-21</td>\n",
       "      <td>117</td>\n",
       "      <td>0.195232</td>\n",
       "      <td>1863857</td>\n",
       "      <td>ladyb</td>\n",
       "    </tr>\n",
       "    <tr>\n",
       "      <td>16</td>\n",
       "      <td>2018-01-28</td>\n",
       "      <td>35</td>\n",
       "      <td>0.191463</td>\n",
       "      <td>2650245</td>\n",
       "      <td>ladyb</td>\n",
       "    </tr>\n",
       "    <tr>\n",
       "      <td>17</td>\n",
       "      <td>2018-02-04</td>\n",
       "      <td>79</td>\n",
       "      <td>0.167932</td>\n",
       "      <td>1929519</td>\n",
       "      <td>ladyb</td>\n",
       "    </tr>\n",
       "    <tr>\n",
       "      <td>18</td>\n",
       "      <td>2018-02-11</td>\n",
       "      <td>100</td>\n",
       "      <td>0.118787</td>\n",
       "      <td>1343310</td>\n",
       "      <td>ladyb</td>\n",
       "    </tr>\n",
       "    <tr>\n",
       "      <td>19</td>\n",
       "      <td>2018-02-18</td>\n",
       "      <td>44</td>\n",
       "      <td>-0.011200</td>\n",
       "      <td>1143293</td>\n",
       "      <td>ladyb</td>\n",
       "    </tr>\n",
       "    <tr>\n",
       "      <td>20</td>\n",
       "      <td>2018-02-25</td>\n",
       "      <td>70</td>\n",
       "      <td>0.138117</td>\n",
       "      <td>963667</td>\n",
       "      <td>ladyb</td>\n",
       "    </tr>\n",
       "    <tr>\n",
       "      <td>21</td>\n",
       "      <td>2018-03-04</td>\n",
       "      <td>160</td>\n",
       "      <td>0.146572</td>\n",
       "      <td>774712</td>\n",
       "      <td>ladyb</td>\n",
       "    </tr>\n",
       "    <tr>\n",
       "      <td>22</td>\n",
       "      <td>2018-03-11</td>\n",
       "      <td>142</td>\n",
       "      <td>0.126356</td>\n",
       "      <td>249427</td>\n",
       "      <td>ladyb</td>\n",
       "    </tr>\n",
       "    <tr>\n",
       "      <td>23</td>\n",
       "      <td>2018-03-18</td>\n",
       "      <td>593</td>\n",
       "      <td>0.202875</td>\n",
       "      <td>105724</td>\n",
       "      <td>ladyb</td>\n",
       "    </tr>\n",
       "    <tr>\n",
       "      <td>24</td>\n",
       "      <td>2018-03-25</td>\n",
       "      <td>160</td>\n",
       "      <td>0.126843</td>\n",
       "      <td>47162</td>\n",
       "      <td>ladyb</td>\n",
       "    </tr>\n",
       "    <tr>\n",
       "      <td>25</td>\n",
       "      <td>2018-04-01</td>\n",
       "      <td>1489</td>\n",
       "      <td>0.123063</td>\n",
       "      <td>28122</td>\n",
       "      <td>ladyb</td>\n",
       "    </tr>\n",
       "    <tr>\n",
       "      <td>26</td>\n",
       "      <td>2018-04-08</td>\n",
       "      <td>969</td>\n",
       "      <td>0.126233</td>\n",
       "      <td>0</td>\n",
       "      <td>ladyb</td>\n",
       "    </tr>\n",
       "    <tr>\n",
       "      <td>27</td>\n",
       "      <td>2017-11-26</td>\n",
       "      <td>304</td>\n",
       "      <td>0.223202</td>\n",
       "      <td>0</td>\n",
       "      <td>thepost</td>\n",
       "    </tr>\n",
       "    <tr>\n",
       "      <td>28</td>\n",
       "      <td>2017-12-03</td>\n",
       "      <td>843</td>\n",
       "      <td>0.158878</td>\n",
       "      <td>0</td>\n",
       "      <td>thepost</td>\n",
       "    </tr>\n",
       "    <tr>\n",
       "      <td>29</td>\n",
       "      <td>2017-12-10</td>\n",
       "      <td>437</td>\n",
       "      <td>0.079275</td>\n",
       "      <td>0</td>\n",
       "      <td>thepost</td>\n",
       "    </tr>\n",
       "    <tr>\n",
       "      <td>30</td>\n",
       "      <td>2017-12-17</td>\n",
       "      <td>67</td>\n",
       "      <td>0.184085</td>\n",
       "      <td>0</td>\n",
       "      <td>thepost</td>\n",
       "    </tr>\n",
       "    <tr>\n",
       "      <td>31</td>\n",
       "      <td>2017-12-24</td>\n",
       "      <td>90</td>\n",
       "      <td>0.002553</td>\n",
       "      <td>1199041</td>\n",
       "      <td>thepost</td>\n",
       "    </tr>\n",
       "    <tr>\n",
       "      <td>32</td>\n",
       "      <td>2017-12-31</td>\n",
       "      <td>108</td>\n",
       "      <td>0.150172</td>\n",
       "      <td>950615</td>\n",
       "      <td>thepost</td>\n",
       "    </tr>\n",
       "    <tr>\n",
       "      <td>33</td>\n",
       "      <td>2018-01-07</td>\n",
       "      <td>66</td>\n",
       "      <td>0.143674</td>\n",
       "      <td>2339581</td>\n",
       "      <td>thepost</td>\n",
       "    </tr>\n",
       "    <tr>\n",
       "      <td>34</td>\n",
       "      <td>2018-01-14</td>\n",
       "      <td>147</td>\n",
       "      <td>0.301271</td>\n",
       "      <td>28552165</td>\n",
       "      <td>thepost</td>\n",
       "    </tr>\n",
       "    <tr>\n",
       "      <td>35</td>\n",
       "      <td>2018-01-21</td>\n",
       "      <td>101</td>\n",
       "      <td>0.335902</td>\n",
       "      <td>16644521</td>\n",
       "      <td>thepost</td>\n",
       "    </tr>\n",
       "    <tr>\n",
       "      <td>36</td>\n",
       "      <td>2018-01-28</td>\n",
       "      <td>23</td>\n",
       "      <td>0.284622</td>\n",
       "      <td>12298587</td>\n",
       "      <td>thepost</td>\n",
       "    </tr>\n",
       "    <tr>\n",
       "      <td>37</td>\n",
       "      <td>2018-02-04</td>\n",
       "      <td>58</td>\n",
       "      <td>0.171257</td>\n",
       "      <td>7352010</td>\n",
       "      <td>thepost</td>\n",
       "    </tr>\n",
       "    <tr>\n",
       "      <td>38</td>\n",
       "      <td>2018-02-11</td>\n",
       "      <td>47</td>\n",
       "      <td>0.049466</td>\n",
       "      <td>5272852</td>\n",
       "      <td>thepost</td>\n",
       "    </tr>\n",
       "    <tr>\n",
       "      <td>39</td>\n",
       "      <td>2018-02-18</td>\n",
       "      <td>84</td>\n",
       "      <td>0.329442</td>\n",
       "      <td>3038629</td>\n",
       "      <td>thepost</td>\n",
       "    </tr>\n",
       "    <tr>\n",
       "      <td>40</td>\n",
       "      <td>2018-02-25</td>\n",
       "      <td>93</td>\n",
       "      <td>0.116965</td>\n",
       "      <td>1810235</td>\n",
       "      <td>thepost</td>\n",
       "    </tr>\n",
       "    <tr>\n",
       "      <td>41</td>\n",
       "      <td>2018-03-04</td>\n",
       "      <td>58</td>\n",
       "      <td>0.274157</td>\n",
       "      <td>1381556</td>\n",
       "      <td>thepost</td>\n",
       "    </tr>\n",
       "    <tr>\n",
       "      <td>42</td>\n",
       "      <td>2018-03-11</td>\n",
       "      <td>65</td>\n",
       "      <td>0.132028</td>\n",
       "      <td>462643</td>\n",
       "      <td>thepost</td>\n",
       "    </tr>\n",
       "    <tr>\n",
       "      <td>43</td>\n",
       "      <td>2018-03-18</td>\n",
       "      <td>145</td>\n",
       "      <td>0.203010</td>\n",
       "      <td>205231</td>\n",
       "      <td>thepost</td>\n",
       "    </tr>\n",
       "    <tr>\n",
       "      <td>44</td>\n",
       "      <td>2018-03-25</td>\n",
       "      <td>60</td>\n",
       "      <td>0.185595</td>\n",
       "      <td>141145</td>\n",
       "      <td>thepost</td>\n",
       "    </tr>\n",
       "    <tr>\n",
       "      <td>45</td>\n",
       "      <td>2018-04-01</td>\n",
       "      <td>78</td>\n",
       "      <td>0.172440</td>\n",
       "      <td>88201</td>\n",
       "      <td>thepost</td>\n",
       "    </tr>\n",
       "    <tr>\n",
       "      <td>46</td>\n",
       "      <td>2018-04-08</td>\n",
       "      <td>74</td>\n",
       "      <td>0.136164</td>\n",
       "      <td>70414</td>\n",
       "      <td>thepost</td>\n",
       "    </tr>\n",
       "    <tr>\n",
       "      <td>47</td>\n",
       "      <td>2018-04-15</td>\n",
       "      <td>84</td>\n",
       "      <td>0.209474</td>\n",
       "      <td>41706</td>\n",
       "      <td>thepost</td>\n",
       "    </tr>\n",
       "    <tr>\n",
       "      <td>48</td>\n",
       "      <td>2018-04-22</td>\n",
       "      <td>145</td>\n",
       "      <td>0.162931</td>\n",
       "      <td>28292</td>\n",
       "      <td>thepost</td>\n",
       "    </tr>\n",
       "    <tr>\n",
       "      <td>49</td>\n",
       "      <td>2018-04-29</td>\n",
       "      <td>106</td>\n",
       "      <td>0.241831</td>\n",
       "      <td>13341</td>\n",
       "      <td>thepost</td>\n",
       "    </tr>\n",
       "  </tbody>\n",
       "</table>\n",
       "</div>"
      ],
      "text/plain": [
       "         dates  tweet_count  sentiment     sales    movie\n",
       "0   2017-10-08          735   0.165143         0    ladyb\n",
       "1   2017-10-15         1096   0.148379         0    ladyb\n",
       "2   2017-10-22          546   0.182132         0    ladyb\n",
       "3   2017-10-29           97   0.151705         0    ladyb\n",
       "4   2017-11-05          106   0.147747    532080    ladyb\n",
       "5   2017-11-12           80   0.160900   1640395    ladyb\n",
       "6   2017-11-19           95   0.227592   4496063    ladyb\n",
       "7   2017-11-26           53   0.175660   5876913    ladyb\n",
       "8   2017-12-03           84   0.072874   6238218    ladyb\n",
       "9   2017-12-10           67   0.105972   5085720    ladyb\n",
       "10  2017-12-17          108   0.107323   3431429    ladyb\n",
       "11  2017-12-24           60   0.116428   2665194    ladyb\n",
       "12  2017-12-31           55   0.058996   2590079    ladyb\n",
       "13  2018-01-07           86   0.205951   2660118    ladyb\n",
       "14  2018-01-14           61   0.180426   2643026    ladyb\n",
       "15  2018-01-21          117   0.195232   1863857    ladyb\n",
       "16  2018-01-28           35   0.191463   2650245    ladyb\n",
       "17  2018-02-04           79   0.167932   1929519    ladyb\n",
       "18  2018-02-11          100   0.118787   1343310    ladyb\n",
       "19  2018-02-18           44  -0.011200   1143293    ladyb\n",
       "20  2018-02-25           70   0.138117    963667    ladyb\n",
       "21  2018-03-04          160   0.146572    774712    ladyb\n",
       "22  2018-03-11          142   0.126356    249427    ladyb\n",
       "23  2018-03-18          593   0.202875    105724    ladyb\n",
       "24  2018-03-25          160   0.126843     47162    ladyb\n",
       "25  2018-04-01         1489   0.123063     28122    ladyb\n",
       "26  2018-04-08          969   0.126233         0    ladyb\n",
       "27  2017-11-26          304   0.223202         0  thepost\n",
       "28  2017-12-03          843   0.158878         0  thepost\n",
       "29  2017-12-10          437   0.079275         0  thepost\n",
       "30  2017-12-17           67   0.184085         0  thepost\n",
       "31  2017-12-24           90   0.002553   1199041  thepost\n",
       "32  2017-12-31          108   0.150172    950615  thepost\n",
       "33  2018-01-07           66   0.143674   2339581  thepost\n",
       "34  2018-01-14          147   0.301271  28552165  thepost\n",
       "35  2018-01-21          101   0.335902  16644521  thepost\n",
       "36  2018-01-28           23   0.284622  12298587  thepost\n",
       "37  2018-02-04           58   0.171257   7352010  thepost\n",
       "38  2018-02-11           47   0.049466   5272852  thepost\n",
       "39  2018-02-18           84   0.329442   3038629  thepost\n",
       "40  2018-02-25           93   0.116965   1810235  thepost\n",
       "41  2018-03-04           58   0.274157   1381556  thepost\n",
       "42  2018-03-11           65   0.132028    462643  thepost\n",
       "43  2018-03-18          145   0.203010    205231  thepost\n",
       "44  2018-03-25           60   0.185595    141145  thepost\n",
       "45  2018-04-01           78   0.172440     88201  thepost\n",
       "46  2018-04-08           74   0.136164     70414  thepost\n",
       "47  2018-04-15           84   0.209474     41706  thepost\n",
       "48  2018-04-22          145   0.162931     28292  thepost\n",
       "49  2018-04-29          106   0.241831     13341  thepost"
      ]
     },
     "execution_count": 26,
     "metadata": {},
     "output_type": "execute_result"
    }
   ],
   "source": [
    "twitter_df.head(50)"
   ]
  },
  {
   "cell_type": "code",
   "execution_count": 27,
   "metadata": {
    "scrolled": true
   },
   "outputs": [
    {
     "name": "stdout",
     "output_type": "stream",
     "text": [
      "Index(['dates', 'tweet_count', 'sentiment', 'sales', 'movie'], dtype='object')\n",
      "dates is unique: False\n",
      "tweet_count is unique: False\n",
      "sentiment is unique: True\n",
      "sales is unique: False\n",
      "movie is unique: False\n"
     ]
    }
   ],
   "source": [
    "# Get column names\n",
    "column = twitter_df.columns\n",
    "print(column)\n",
    "# Get column data types\n",
    "twitter_df.dtypes\n",
    "# Also check if the column is unique\n",
    "for i in column:\n",
    "  print('{} is unique: {}'.format(i, twitter_df[i].is_unique))\n",
    "# I am figuring out how to use this data and manipulate the data."
   ]
  },
  {
   "cell_type": "code",
   "execution_count": 28,
   "metadata": {},
   "outputs": [
    {
     "data": {
      "text/plain": [
       "array([['2017-10-08', 735, 0.16514299319727888, 0, 'ladyb'],\n",
       "       ['2017-10-15', 1096, 0.1483788321167884, 0, 'ladyb'],\n",
       "       ['2017-10-22', 546, 0.18213150183150167, 0, 'ladyb'],\n",
       "       ...,\n",
       "       ['2018-04-15', 36, 0.07191388888888887, 23821, 'callme'],\n",
       "       ['2018-04-22', 341, 0.0696762463343108, 19264, 'callme'],\n",
       "       ['2018-04-29', 1653, 0.07781554748941304, 0, 'callme']],\n",
       "      dtype=object)"
      ]
     },
     "execution_count": 28,
     "metadata": {},
     "output_type": "execute_result"
    }
   ],
   "source": [
    "twitter_df_values = twitter_df.values\n",
    "twitter_df_values"
   ]
  },
  {
   "cell_type": "code",
   "execution_count": 29,
   "metadata": {},
   "outputs": [
    {
     "name": "stdout",
     "output_type": "stream",
     "text": [
      "37076\n",
      "156.43881856540085\n",
      "81.0\n",
      "216.16145059659002\n"
     ]
    }
   ],
   "source": [
    "print(twitter_df['tweet_count'].sum())\n",
    "print(twitter_df['tweet_count'].mean())\n",
    "print(twitter_df['tweet_count'].median())\n",
    "print(twitter_df['tweet_count'].std())\n",
    "#I am demonstrating calculations for the whole data set"
   ]
  },
  {
   "cell_type": "code",
   "execution_count": 30,
   "metadata": {},
   "outputs": [
    {
     "name": "stdout",
     "output_type": "stream",
     "text": [
      "22.637368671431716\n",
      "0.0955163235081507\n",
      "0.10732314814814814\n",
      "0.11993810565734485\n"
     ]
    }
   ],
   "source": [
    "print(twitter_df['sentiment'].sum())\n",
    "print(twitter_df['sentiment'].mean())\n",
    "print(twitter_df['sentiment'].median())\n",
    "print(twitter_df['sentiment'].std())\n",
    "#I am demonstrating calculations for the whole data set"
   ]
  },
  {
   "cell_type": "code",
   "execution_count": 31,
   "metadata": {},
   "outputs": [
    {
     "name": "stdout",
     "output_type": "stream",
     "text": [
      "708583113\n",
      "2989802.164556962\n",
      "462643.0\n",
      "7831276.402609373\n"
     ]
    }
   ],
   "source": [
    "print(twitter_df['sales'].sum())\n",
    "print(twitter_df['sales'].mean())\n",
    "print(twitter_df['sales'].median())\n",
    "print(twitter_df['sales'].std())\n",
    "#I am demonstrating calculations for the whole data set"
   ]
  },
  {
   "cell_type": "code",
   "execution_count": 32,
   "metadata": {},
   "outputs": [
    {
     "data": {
      "text/html": [
       "<div>\n",
       "<style scoped>\n",
       "    .dataframe tbody tr th:only-of-type {\n",
       "        vertical-align: middle;\n",
       "    }\n",
       "\n",
       "    .dataframe tbody tr th {\n",
       "        vertical-align: top;\n",
       "    }\n",
       "\n",
       "    .dataframe thead th {\n",
       "        text-align: right;\n",
       "    }\n",
       "</style>\n",
       "<table border=\"1\" class=\"dataframe\">\n",
       "  <thead>\n",
       "    <tr style=\"text-align: right;\">\n",
       "      <th></th>\n",
       "      <th>dates</th>\n",
       "      <th>tweet_count</th>\n",
       "      <th>sentiment</th>\n",
       "      <th>sales</th>\n",
       "      <th>movie</th>\n",
       "    </tr>\n",
       "  </thead>\n",
       "  <tbody>\n",
       "    <tr>\n",
       "      <td>0</td>\n",
       "      <td>2017-10-08</td>\n",
       "      <td>735</td>\n",
       "      <td>0.165143</td>\n",
       "      <td>0</td>\n",
       "      <td>ladyb</td>\n",
       "    </tr>\n",
       "    <tr>\n",
       "      <td>1</td>\n",
       "      <td>2017-10-15</td>\n",
       "      <td>1096</td>\n",
       "      <td>0.148379</td>\n",
       "      <td>0</td>\n",
       "      <td>ladyb</td>\n",
       "    </tr>\n",
       "    <tr>\n",
       "      <td>2</td>\n",
       "      <td>2017-10-22</td>\n",
       "      <td>546</td>\n",
       "      <td>0.182132</td>\n",
       "      <td>0</td>\n",
       "      <td>ladyb</td>\n",
       "    </tr>\n",
       "    <tr>\n",
       "      <td>3</td>\n",
       "      <td>2017-10-29</td>\n",
       "      <td>97</td>\n",
       "      <td>0.151705</td>\n",
       "      <td>0</td>\n",
       "      <td>ladyb</td>\n",
       "    </tr>\n",
       "    <tr>\n",
       "      <td>4</td>\n",
       "      <td>2017-11-05</td>\n",
       "      <td>106</td>\n",
       "      <td>0.147747</td>\n",
       "      <td>532080</td>\n",
       "      <td>ladyb</td>\n",
       "    </tr>\n",
       "    <tr>\n",
       "      <td>5</td>\n",
       "      <td>2017-11-12</td>\n",
       "      <td>80</td>\n",
       "      <td>0.160900</td>\n",
       "      <td>1640395</td>\n",
       "      <td>ladyb</td>\n",
       "    </tr>\n",
       "    <tr>\n",
       "      <td>6</td>\n",
       "      <td>2017-11-19</td>\n",
       "      <td>95</td>\n",
       "      <td>0.227592</td>\n",
       "      <td>4496063</td>\n",
       "      <td>ladyb</td>\n",
       "    </tr>\n",
       "    <tr>\n",
       "      <td>7</td>\n",
       "      <td>2017-11-26</td>\n",
       "      <td>53</td>\n",
       "      <td>0.175660</td>\n",
       "      <td>5876913</td>\n",
       "      <td>ladyb</td>\n",
       "    </tr>\n",
       "    <tr>\n",
       "      <td>8</td>\n",
       "      <td>2017-12-03</td>\n",
       "      <td>84</td>\n",
       "      <td>0.072874</td>\n",
       "      <td>6238218</td>\n",
       "      <td>ladyb</td>\n",
       "    </tr>\n",
       "    <tr>\n",
       "      <td>9</td>\n",
       "      <td>2017-12-10</td>\n",
       "      <td>67</td>\n",
       "      <td>0.105972</td>\n",
       "      <td>5085720</td>\n",
       "      <td>ladyb</td>\n",
       "    </tr>\n",
       "    <tr>\n",
       "      <td>10</td>\n",
       "      <td>2017-12-17</td>\n",
       "      <td>108</td>\n",
       "      <td>0.107323</td>\n",
       "      <td>3431429</td>\n",
       "      <td>ladyb</td>\n",
       "    </tr>\n",
       "    <tr>\n",
       "      <td>11</td>\n",
       "      <td>2017-12-24</td>\n",
       "      <td>60</td>\n",
       "      <td>0.116428</td>\n",
       "      <td>2665194</td>\n",
       "      <td>ladyb</td>\n",
       "    </tr>\n",
       "    <tr>\n",
       "      <td>12</td>\n",
       "      <td>2017-12-31</td>\n",
       "      <td>55</td>\n",
       "      <td>0.058996</td>\n",
       "      <td>2590079</td>\n",
       "      <td>ladyb</td>\n",
       "    </tr>\n",
       "    <tr>\n",
       "      <td>13</td>\n",
       "      <td>2018-01-07</td>\n",
       "      <td>86</td>\n",
       "      <td>0.205951</td>\n",
       "      <td>2660118</td>\n",
       "      <td>ladyb</td>\n",
       "    </tr>\n",
       "    <tr>\n",
       "      <td>14</td>\n",
       "      <td>2018-01-14</td>\n",
       "      <td>61</td>\n",
       "      <td>0.180426</td>\n",
       "      <td>2643026</td>\n",
       "      <td>ladyb</td>\n",
       "    </tr>\n",
       "    <tr>\n",
       "      <td>15</td>\n",
       "      <td>2018-01-21</td>\n",
       "      <td>117</td>\n",
       "      <td>0.195232</td>\n",
       "      <td>1863857</td>\n",
       "      <td>ladyb</td>\n",
       "    </tr>\n",
       "    <tr>\n",
       "      <td>16</td>\n",
       "      <td>2018-01-28</td>\n",
       "      <td>35</td>\n",
       "      <td>0.191463</td>\n",
       "      <td>2650245</td>\n",
       "      <td>ladyb</td>\n",
       "    </tr>\n",
       "    <tr>\n",
       "      <td>17</td>\n",
       "      <td>2018-02-04</td>\n",
       "      <td>79</td>\n",
       "      <td>0.167932</td>\n",
       "      <td>1929519</td>\n",
       "      <td>ladyb</td>\n",
       "    </tr>\n",
       "    <tr>\n",
       "      <td>18</td>\n",
       "      <td>2018-02-11</td>\n",
       "      <td>100</td>\n",
       "      <td>0.118787</td>\n",
       "      <td>1343310</td>\n",
       "      <td>ladyb</td>\n",
       "    </tr>\n",
       "    <tr>\n",
       "      <td>19</td>\n",
       "      <td>2018-02-18</td>\n",
       "      <td>44</td>\n",
       "      <td>-0.011200</td>\n",
       "      <td>1143293</td>\n",
       "      <td>ladyb</td>\n",
       "    </tr>\n",
       "    <tr>\n",
       "      <td>20</td>\n",
       "      <td>2018-02-25</td>\n",
       "      <td>70</td>\n",
       "      <td>0.138117</td>\n",
       "      <td>963667</td>\n",
       "      <td>ladyb</td>\n",
       "    </tr>\n",
       "    <tr>\n",
       "      <td>21</td>\n",
       "      <td>2018-03-04</td>\n",
       "      <td>160</td>\n",
       "      <td>0.146572</td>\n",
       "      <td>774712</td>\n",
       "      <td>ladyb</td>\n",
       "    </tr>\n",
       "    <tr>\n",
       "      <td>22</td>\n",
       "      <td>2018-03-11</td>\n",
       "      <td>142</td>\n",
       "      <td>0.126356</td>\n",
       "      <td>249427</td>\n",
       "      <td>ladyb</td>\n",
       "    </tr>\n",
       "    <tr>\n",
       "      <td>23</td>\n",
       "      <td>2018-03-18</td>\n",
       "      <td>593</td>\n",
       "      <td>0.202875</td>\n",
       "      <td>105724</td>\n",
       "      <td>ladyb</td>\n",
       "    </tr>\n",
       "    <tr>\n",
       "      <td>24</td>\n",
       "      <td>2018-03-25</td>\n",
       "      <td>160</td>\n",
       "      <td>0.126843</td>\n",
       "      <td>47162</td>\n",
       "      <td>ladyb</td>\n",
       "    </tr>\n",
       "    <tr>\n",
       "      <td>25</td>\n",
       "      <td>2018-04-01</td>\n",
       "      <td>1489</td>\n",
       "      <td>0.123063</td>\n",
       "      <td>28122</td>\n",
       "      <td>ladyb</td>\n",
       "    </tr>\n",
       "  </tbody>\n",
       "</table>\n",
       "</div>"
      ],
      "text/plain": [
       "         dates  tweet_count  sentiment    sales  movie\n",
       "0   2017-10-08          735   0.165143        0  ladyb\n",
       "1   2017-10-15         1096   0.148379        0  ladyb\n",
       "2   2017-10-22          546   0.182132        0  ladyb\n",
       "3   2017-10-29           97   0.151705        0  ladyb\n",
       "4   2017-11-05          106   0.147747   532080  ladyb\n",
       "5   2017-11-12           80   0.160900  1640395  ladyb\n",
       "6   2017-11-19           95   0.227592  4496063  ladyb\n",
       "7   2017-11-26           53   0.175660  5876913  ladyb\n",
       "8   2017-12-03           84   0.072874  6238218  ladyb\n",
       "9   2017-12-10           67   0.105972  5085720  ladyb\n",
       "10  2017-12-17          108   0.107323  3431429  ladyb\n",
       "11  2017-12-24           60   0.116428  2665194  ladyb\n",
       "12  2017-12-31           55   0.058996  2590079  ladyb\n",
       "13  2018-01-07           86   0.205951  2660118  ladyb\n",
       "14  2018-01-14           61   0.180426  2643026  ladyb\n",
       "15  2018-01-21          117   0.195232  1863857  ladyb\n",
       "16  2018-01-28           35   0.191463  2650245  ladyb\n",
       "17  2018-02-04           79   0.167932  1929519  ladyb\n",
       "18  2018-02-11          100   0.118787  1343310  ladyb\n",
       "19  2018-02-18           44  -0.011200  1143293  ladyb\n",
       "20  2018-02-25           70   0.138117   963667  ladyb\n",
       "21  2018-03-04          160   0.146572   774712  ladyb\n",
       "22  2018-03-11          142   0.126356   249427  ladyb\n",
       "23  2018-03-18          593   0.202875   105724  ladyb\n",
       "24  2018-03-25          160   0.126843    47162  ladyb\n",
       "25  2018-04-01         1489   0.123063    28122  ladyb"
      ]
     },
     "execution_count": 32,
     "metadata": {},
     "output_type": "execute_result"
    }
   ],
   "source": [
    "ladyb_df = twitter_df.loc[0:26]\n",
    "ladyb_df.head(26)\n",
    "#Each individual movie was isolated for analysis"
   ]
  },
  {
   "cell_type": "code",
   "execution_count": 33,
   "metadata": {},
   "outputs": [
    {
     "name": "stdout",
     "output_type": "stream",
     "text": [
      "7287\n",
      "0.1429444397541055\n",
      "48958273\n"
     ]
    }
   ],
   "source": [
    "print(ladyb_df['tweet_count'].sum())\n",
    "print(ladyb_df['sentiment'].mean())\n",
    "print(ladyb_df['sales'].sum())\n"
   ]
  },
  {
   "cell_type": "code",
   "execution_count": 34,
   "metadata": {},
   "outputs": [
    {
     "name": "stdout",
     "output_type": "stream",
     "text": [
      "3907\n",
      "0.1999095431845354\n",
      "81903458\n"
     ]
    }
   ],
   "source": [
    "thepost_df = twitter_df.loc[27:52]\n",
    "print(thepost_df['tweet_count'].sum())\n",
    "print(thepost_df['sentiment'].mean())\n",
    "print(thepost_df['sales'].sum())\n"
   ]
  },
  {
   "cell_type": "code",
   "execution_count": 35,
   "metadata": {},
   "outputs": [
    {
     "name": "stdout",
     "output_type": "stream",
     "text": [
      "4625\n",
      "0.10331876359711133\n",
      "18095701\n"
     ]
    }
   ],
   "source": [
    "callme_df = twitter_df.loc[210:236]\n",
    "print(callme_df['tweet_count'].sum())\n",
    "print(callme_df['sentiment'].mean())\n",
    "print(callme_df['sales'].sum())"
   ]
  },
  {
   "cell_type": "code",
   "execution_count": 36,
   "metadata": {},
   "outputs": [
    {
     "name": "stdout",
     "output_type": "stream",
     "text": [
      "3056\n",
      "-0.13974593366043403\n",
      "56468410\n"
     ]
    }
   ],
   "source": [
    "darkest_df = twitter_df.loc[184:209]\n",
    "print(darkest_df['tweet_count'].sum())\n",
    "print(darkest_df['sentiment'].mean())\n",
    "print(darkest_df['sales'].sum())"
   ]
  },
  {
   "cell_type": "code",
   "execution_count": 37,
   "metadata": {},
   "outputs": [
    {
     "name": "stdout",
     "output_type": "stream",
     "text": [
      "4615\n",
      "0.06031805599029039\n",
      "188045546\n"
     ]
    }
   ],
   "source": [
    "dunkirk_df = twitter_df.loc[156:183]\n",
    "print(dunkirk_df['tweet_count'].sum())\n",
    "print(dunkirk_df['sentiment'].mean())\n",
    "print(dunkirk_df['sales'].sum())"
   ]
  },
  {
   "cell_type": "code",
   "execution_count": 38,
   "metadata": {},
   "outputs": [
    {
     "name": "stdout",
     "output_type": "stream",
     "text": [
      "2364\n",
      "0.05213922083825099\n",
      "175686870\n"
     ]
    }
   ],
   "source": [
    "getout_df = twitter_df.loc[131:155]\n",
    "print(getout_df['tweet_count'].sum())\n",
    "print(getout_df['sentiment'].mean())\n",
    "print(getout_df['sales'].sum())"
   ]
  },
  {
   "cell_type": "code",
   "execution_count": 39,
   "metadata": {},
   "outputs": [
    {
     "name": "stdout",
     "output_type": "stream",
     "text": [
      "4356\n",
      "0.1365793071791724\n",
      "54513740\n"
     ]
    }
   ],
   "source": [
    "threebill_df = twitter_df.loc[53:82]\n",
    "print(threebill_df['tweet_count'].sum())\n",
    "print(threebill_df['sentiment'].mean())\n",
    "print(threebill_df['sales'].sum())"
   ]
  },
  {
   "cell_type": "code",
   "execution_count": 40,
   "metadata": {},
   "outputs": [
    {
     "name": "stdout",
     "output_type": "stream",
     "text": [
      "3643\n",
      "0.15382607472580154\n",
      "63859435\n"
     ]
    }
   ],
   "source": [
    "shapeofwater_df = twitter_df.loc[83:109]\n",
    "print(shapeofwater_df['tweet_count'].sum())\n",
    "print(shapeofwater_df['sentiment'].mean())\n",
    "print(shapeofwater_df['sales'].sum())"
   ]
  },
  {
   "cell_type": "code",
   "execution_count": 41,
   "metadata": {},
   "outputs": [
    {
     "name": "stdout",
     "output_type": "stream",
     "text": [
      "3223\n",
      "0.15147328626980996\n",
      "21051680\n"
     ]
    }
   ],
   "source": [
    "phantom_df = twitter_df.loc[110:130]\n",
    "print(phantom_df['tweet_count'].sum())\n",
    "print(phantom_df['sentiment'].mean())\n",
    "print(phantom_df['sales'].sum())"
   ]
  },
  {
   "cell_type": "code",
   "execution_count": 42,
   "metadata": {},
   "outputs": [
    {
     "data": {
      "text/plain": [
       "[4625, 3056, 4615, 2364, 7287, 3223, 3643, 4356, 3907]"
      ]
     },
     "execution_count": 42,
     "metadata": {},
     "output_type": "execute_result"
    }
   ],
   "source": [
    "best_pic_tweet_count =[callme_df['tweet_count'].sum(), darkest_df['tweet_count'].sum(), dunkirk_df['tweet_count'].sum(), getout_df['tweet_count'].sum(), ladyb_df['tweet_count'].sum(),phantom_df['tweet_count'].sum(),shapeofwater_df['tweet_count'].sum(),threebill_df['tweet_count'].sum(),thepost_df['tweet_count'].sum() ]\n",
    "\n",
    "best_pic_tweet_count\n",
    "#Individual lists were made of the numerical data for \"tweet count\", \"sentiment\", and \"sales\""
   ]
  },
  {
   "cell_type": "code",
   "execution_count": 43,
   "metadata": {},
   "outputs": [
    {
     "data": {
      "text/plain": [
       "[0.10331876359711133,\n",
       " -0.13974593366043403,\n",
       " 0.06031805599029039,\n",
       " 0.05213922083825099,\n",
       " 0.1429444397541055,\n",
       " 0.15147328626980996,\n",
       " 0.15382607472580154,\n",
       " 0.1365793071791724,\n",
       " 0.1999095431845354]"
      ]
     },
     "execution_count": 43,
     "metadata": {},
     "output_type": "execute_result"
    }
   ],
   "source": [
    "best_pic_sentiment = [callme_df['sentiment'].mean(), darkest_df['sentiment'].mean(), dunkirk_df['sentiment'].mean(), getout_df['sentiment'].mean(), ladyb_df['sentiment'].mean(),phantom_df['sentiment'].mean(),shapeofwater_df['sentiment'].mean(),threebill_df['sentiment'].mean(),thepost_df['sentiment'].mean() ]\n",
    "best_pic_sentiment"
   ]
  },
  {
   "cell_type": "code",
   "execution_count": 44,
   "metadata": {},
   "outputs": [
    {
     "data": {
      "text/plain": [
       "[18095701,\n",
       " 56468410,\n",
       " 188045546,\n",
       " 175686870,\n",
       " 48958273,\n",
       " 21051680,\n",
       " 63859435,\n",
       " 54513740,\n",
       " 81903458]"
      ]
     },
     "execution_count": 44,
     "metadata": {},
     "output_type": "execute_result"
    }
   ],
   "source": [
    "best_pic_sales = [callme_df['sales'].sum(), darkest_df['sales'].sum(), dunkirk_df['sales'].sum(), getout_df['sales'].sum(), ladyb_df['sales'].sum(),phantom_df['sales'].sum(),shapeofwater_df['sales'].sum(),threebill_df['sales'].sum(),thepost_df['sales'].sum() ]\n",
    "best_pic_sales"
   ]
  },
  {
   "cell_type": "code",
   "execution_count": 89,
   "metadata": {},
   "outputs": [
    {
     "name": "stdout",
     "output_type": "stream",
     "text": [
      "4625\n",
      "[0.10331876359711133, -0.13974593366043403, 0.06031805599029039, 0.05213922083825099, 0.1429444397541055, 0.15147328626980996, 0.15382607472580154, 0.1365793071791724, 0.1999095431845354]\n",
      "[4625, 3056, 4615, 2364, 7287, 3223, 3643, 4356, 3907]\n"
     ]
    },
    {
     "data": {
      "text/plain": [
       "Text(0.5, 1.0, 'Tweet to Sales')"
      ]
     },
     "execution_count": 89,
     "metadata": {},
     "output_type": "execute_result"
    },
    {
     "data": {
      "image/png": "[encoded data removed]",
      "text/plain": [
       "<Figure size 432x288 with 1 Axes>"
      ]
     },
     "metadata": {
      "needs_background": "light"
     },
     "output_type": "display_data"
    }
   ],
   "source": [
    "q = best_pic_sales\n",
    "y = best_pic_sentiment\n",
    "z = best_pic_tweet_count\n",
    "print(x)\n",
    "print(y)\n",
    "print(z)\n",
    "\n",
    "plt.scatter(z, q)\n",
    "plt.xlabel('Tweet Count in millions')\n",
    "plt.ylabel('Sales in 100 millions')\n",
    "plt.title('Tweet to Sales')\n",
    "\n",
    "\n",
    "#This data does not support a positive correlation of tweet to sales"
   ]
  },
  {
   "cell_type": "code",
   "execution_count": 90,
   "metadata": {},
   "outputs": [
    {
     "data": {
      "image/png": "[encoded data removed]",
      "text/plain": [
       "<Figure size 432x288 with 1 Axes>"
      ]
     },
     "metadata": {
      "needs_background": "light"
     },
     "output_type": "display_data"
    }
   ],
   "source": [
    "ax = sns.regplot(x=z, y=q, color=\"g\")\n",
    "#this regression chart shows that actually the more tweets a movie has, the less in sales in gets."
   ]
  },
  {
   "cell_type": "code",
   "execution_count": null,
   "metadata": {},
   "outputs": [],
   "source": [
    "plt.bar(x,z , align='center', alpha=0.5)\n",
    "#botched code"
   ]
  },
  {
   "cell_type": "code",
   "execution_count": 91,
   "metadata": {},
   "outputs": [
    {
     "data": {
      "text/plain": [
       "Text(0, 0.5, 'Tweet Count in millions')"
      ]
     },
     "execution_count": 91,
     "metadata": {},
     "output_type": "execute_result"
    },
    {
     "data": {
      "image/png": "[encoded data removed]",
      "text/plain": [
       "<Figure size 432x288 with 1 Axes>"
      ]
     },
     "metadata": {
      "needs_background": "light"
     },
     "output_type": "display_data"
    }
   ],
   "source": [
    "plt.scatter(y, z)\n",
    "plt.xlabel('Best Pic Sentiment')\n"
   ]
  },
  {
   "cell_type": "code",
   "execution_count": 92,
   "metadata": {},
   "outputs": [
    {
     "data": {
      "image/png": "[encoded data removed]",
      "text/plain": [
       "<Figure size 432x288 with 1 Axes>"
      ]
     },
     "metadata": {
      "needs_background": "light"
     },
     "output_type": "display_data"
    }
   ],
   "source": [
    "ax = sns.regplot(x=y, y=z, color=\"g\")\n",
    "#the higher the positive tweets are, the more tweets the picture will get."
   ]
  },
  {
   "cell_type": "code",
   "execution_count": 48,
   "metadata": {
    "scrolled": true
   },
   "outputs": [
    {
     "data": {
      "text/plain": [
       "Text(0, 0.5, 'Best Pic Sentiment')"
      ]
     },
     "execution_count": 48,
     "metadata": {},
     "output_type": "execute_result"
    },
    {
     "data": {
      "image/png": "[encoded data removed]",
      "text/plain": [
       "<Figure size 432x288 with 1 Axes>"
      ]
     },
     "metadata": {
      "needs_background": "light"
     },
     "output_type": "display_data"
    }
   ],
   "source": [
    "plt.scatter(x, y)\n",
    "plt.xlabel('Sales in Millions')\n",
    "plt.ylabel('Best Pic Sentiment')"
   ]
  },
  {
   "cell_type": "code",
   "execution_count": null,
   "metadata": {},
   "outputs": [],
   "source": [
    "y = [2.56422, 3.77284, 3.52623, 3.51468, 3.02199]\n",
    "z = [0.15, 0.3, 0.45, 0.6, 0.75]\n",
    "n = [58, 651, 393, 203, 123]\n",
    "\n",
    "fig, ax = plt.subplots()\n",
    "ax.scatter(z, y)\n",
    "\n",
    "for i, txt in enumerate(n):\n",
    "    ax.annotate(txt, (z[i], y[i]))"
   ]
  },
  {
   "cell_type": "code",
   "execution_count": 46,
   "metadata": {},
   "outputs": [
    {
     "data": {
      "image/png": "[encoded data removed]",
      "text/plain": [
       "<Figure size 432x288 with 1 Axes>"
      ]
     },
     "metadata": {
      "needs_background": "light"
     },
     "output_type": "display_data"
    }
   ],
   "source": [
    "ax = sns.regplot(x=z, y=x, color=\"g\")"
   ]
  },
  {
   "cell_type": "code",
   "execution_count": null,
   "metadata": {},
   "outputs": [],
   "source": [
    "twitter_sales_df = pd.read_csv(\"./data/girlproject/weeklysales.csv\")\n",
    "twitter_sales_df"
   ]
  },
  {
   "cell_type": "code",
   "execution_count": null,
   "metadata": {},
   "outputs": [],
   "source": [
    "#This was an attempt to bring outside information regarding social media presence and make a correlation between social media presence/genre of movie, and sales.  #This data set does not support any of this."
   ]
  }
 ],
 "metadata": {
  "kernelspec": {
   "display_name": "Python 3",
   "language": "python",
   "name": "python3"
  },
  "language_info": {
   "codemirror_mode": {
    "name": "ipython",
    "version": 3
   },
   "file_extension": ".py",
   "mimetype": "text/x-python",
   "name": "python",
   "nbconvert_exporter": "python",
   "pygments_lexer": "ipython3",
   "version": "3.6.9"
  }
 },
 "nbformat": 4,
 "nbformat_minor": 2
}
